{
 "cells": [
  {
   "cell_type": "code",
   "execution_count": 1,
   "metadata": {
    "_cell_guid": "b1076dfc-b9ad-4769-8c92-a6c4dae69d19",
    "_uuid": "8f2839f25d086af736a60e9eeb907d3b93b6e0e5",
    "execution": {
     "iopub.execute_input": "2020-08-17T10:33:20.354958Z",
     "iopub.status.busy": "2020-08-17T10:33:20.354002Z",
     "iopub.status.idle": "2020-08-17T10:33:20.359270Z",
     "shell.execute_reply": "2020-08-17T10:33:20.358487Z"
    },
    "papermill": {
     "duration": 0.026266,
     "end_time": "2020-08-17T10:33:20.359403",
     "exception": false,
     "start_time": "2020-08-17T10:33:20.333137",
     "status": "completed"
    },
    "tags": []
   },
   "outputs": [
    {
     "name": "stdout",
     "output_type": "stream",
     "text": [
      "/kaggle/input/titanic/train.csv\n",
      "/kaggle/input/titanic/gender_submission.csv\n",
      "/kaggle/input/titanic/test.csv\n"
     ]
    }
   ],
   "source": [
    "# This Python 3 environment comes with many helpful analytics libraries installed\n",
    "# It is defined by the kaggle/python Docker image: https://github.com/kaggle/docker-python\n",
    "# For example, here's several helpful packages to load\n",
    "\n",
    "import numpy as np # linear algebra\n",
    "import pandas as pd # data processing, CSV file I/O (e.g. pd.read_csv)\n",
    "\n",
    "# Input data files are available in the read-only \"../input/\" directory\n",
    "# For example, running this (by clicking run or pressing Shift+Enter) will list all files under the input directory\n",
    "\n",
    "import os\n",
    "for dirname, _, filenames in os.walk('/kaggle/input'):\n",
    "    for filename in filenames:\n",
    "        print(os.path.join(dirname, filename))\n",
    "\n",
    "# You can write up to 5GB to the current directory (/kaggle/working/) that gets preserved as output when you create a version using \"Save & Run All\" \n",
    "# You can also write temporary files to /kaggle/temp/, but they won't be saved outside of the current session"
   ]
  },
  {
   "cell_type": "markdown",
   "execution_count": null,
   "metadata": {
    "papermill": {
     "duration": 0.011794,
     "end_time": "2020-08-17T10:33:20.384533",
     "exception": false,
     "start_time": "2020-08-17T10:33:20.372739",
     "status": "completed"
    },
    "tags": []
   },
   "source": [
    "**First we import the data,then concat both training and test dataset,later again we will split dataset into train and test and apply different algorithims on test set for prediction.let's do it.**"
   ]
  },
  {
   "cell_type": "code",
   "execution_count": 2,
   "metadata": {
    "execution": {
     "iopub.execute_input": "2020-08-17T10:33:20.420513Z",
     "iopub.status.busy": "2020-08-17T10:33:20.419515Z",
     "iopub.status.idle": "2020-08-17T10:33:21.441650Z",
     "shell.execute_reply": "2020-08-17T10:33:21.440921Z"
    },
    "papermill": {
     "duration": 1.043663,
     "end_time": "2020-08-17T10:33:21.441802",
     "exception": false,
     "start_time": "2020-08-17T10:33:20.398139",
     "status": "completed"
    },
    "tags": []
   },
   "outputs": [
    {
     "data": {
      "text/plain": [
       "Index(['PassengerId', 'Survived', 'Pclass', 'Name', 'Sex', 'Age', 'SibSp',\n",
       "       'Parch', 'Ticket', 'Fare', 'Cabin', 'Embarked', 'train_test'],\n",
       "      dtype='object')"
      ]
     },
     "execution_count": 2,
     "metadata": {},
     "output_type": "execute_result"
    }
   ],
   "source": [
    "import seaborn as sns\n",
    "import matplotlib.pyplot as plt\n",
    "%matplotlib inline\n",
    "training=pd.read_csv('/kaggle/input/titanic/train.csv')\n",
    "test=pd.read_csv('/kaggle/input/titanic/test.csv')\n",
    "training['train_test']=1\n",
    "test['train_test']=0\n",
    "all_data=pd.concat([training,test])\n",
    "all_data.columns\n",
    "\n"
   ]
  },
  {
   "cell_type": "markdown",
   "execution_count": null,
   "metadata": {
    "papermill": {
     "duration": 0.012267,
     "end_time": "2020-08-17T10:33:21.466613",
     "exception": false,
     "start_time": "2020-08-17T10:33:21.454346",
     "status": "completed"
    },
    "tags": []
   },
   "source": [
    "#it's time for analysing the data .first with the help of .info() and .describe()to know the nature of data.\n",
    "#then visualising the data\n",
    "#value count\n",
    "#taking care of missing data\n",
    "#correlation between the features\n",
    "\n"
   ]
  },
  {
   "cell_type": "code",
   "execution_count": 3,
   "metadata": {
    "execution": {
     "iopub.execute_input": "2020-08-17T10:33:21.511814Z",
     "iopub.status.busy": "2020-08-17T10:33:21.510868Z",
     "iopub.status.idle": "2020-08-17T10:33:21.514402Z",
     "shell.execute_reply": "2020-08-17T10:33:21.514983Z"
    },
    "papermill": {
     "duration": 0.035851,
     "end_time": "2020-08-17T10:33:21.515156",
     "exception": false,
     "start_time": "2020-08-17T10:33:21.479305",
     "status": "completed"
    },
    "tags": []
   },
   "outputs": [
    {
     "name": "stdout",
     "output_type": "stream",
     "text": [
      "<class 'pandas.core.frame.DataFrame'>\n",
      "RangeIndex: 891 entries, 0 to 890\n",
      "Data columns (total 13 columns):\n",
      " #   Column       Non-Null Count  Dtype  \n",
      "---  ------       --------------  -----  \n",
      " 0   PassengerId  891 non-null    int64  \n",
      " 1   Survived     891 non-null    int64  \n",
      " 2   Pclass       891 non-null    int64  \n",
      " 3   Name         891 non-null    object \n",
      " 4   Sex          891 non-null    object \n",
      " 5   Age          714 non-null    float64\n",
      " 6   SibSp        891 non-null    int64  \n",
      " 7   Parch        891 non-null    int64  \n",
      " 8   Ticket       891 non-null    object \n",
      " 9   Fare         891 non-null    float64\n",
      " 10  Cabin        204 non-null    object \n",
      " 11  Embarked     889 non-null    object \n",
      " 12  train_test   891 non-null    int64  \n",
      "dtypes: float64(2), int64(6), object(5)\n",
      "memory usage: 90.6+ KB\n"
     ]
    }
   ],
   "source": [
    "training.info()"
   ]
  },
  {
   "cell_type": "code",
   "execution_count": 4,
   "metadata": {
    "_cell_guid": "79c7e3d0-c299-4dcb-8224-4455121ee9b0",
    "_uuid": "d629ff2d2480ee46fbb7e2d37f6b5fab8052498a",
    "execution": {
     "iopub.execute_input": "2020-08-17T10:33:21.550270Z",
     "iopub.status.busy": "2020-08-17T10:33:21.549456Z",
     "iopub.status.idle": "2020-08-17T10:33:21.587010Z",
     "shell.execute_reply": "2020-08-17T10:33:21.586379Z"
    },
    "papermill": {
     "duration": 0.05915,
     "end_time": "2020-08-17T10:33:21.587148",
     "exception": false,
     "start_time": "2020-08-17T10:33:21.527998",
     "status": "completed"
    },
    "tags": []
   },
   "outputs": [
    {
     "data": {
      "text/html": [
       "<div>\n",
       "<style scoped>\n",
       "    .dataframe tbody tr th:only-of-type {\n",
       "        vertical-align: middle;\n",
       "    }\n",
       "\n",
       "    .dataframe tbody tr th {\n",
       "        vertical-align: top;\n",
       "    }\n",
       "\n",
       "    .dataframe thead th {\n",
       "        text-align: right;\n",
       "    }\n",
       "</style>\n",
       "<table border=\"1\" class=\"dataframe\">\n",
       "  <thead>\n",
       "    <tr style=\"text-align: right;\">\n",
       "      <th></th>\n",
       "      <th>PassengerId</th>\n",
       "      <th>Survived</th>\n",
       "      <th>Pclass</th>\n",
       "      <th>Age</th>\n",
       "      <th>SibSp</th>\n",
       "      <th>Parch</th>\n",
       "      <th>Fare</th>\n",
       "      <th>train_test</th>\n",
       "    </tr>\n",
       "  </thead>\n",
       "  <tbody>\n",
       "    <tr>\n",
       "      <th>count</th>\n",
       "      <td>891.000000</td>\n",
       "      <td>891.000000</td>\n",
       "      <td>891.000000</td>\n",
       "      <td>714.000000</td>\n",
       "      <td>891.000000</td>\n",
       "      <td>891.000000</td>\n",
       "      <td>891.000000</td>\n",
       "      <td>891.0</td>\n",
       "    </tr>\n",
       "    <tr>\n",
       "      <th>mean</th>\n",
       "      <td>446.000000</td>\n",
       "      <td>0.383838</td>\n",
       "      <td>2.308642</td>\n",
       "      <td>29.699118</td>\n",
       "      <td>0.523008</td>\n",
       "      <td>0.381594</td>\n",
       "      <td>32.204208</td>\n",
       "      <td>1.0</td>\n",
       "    </tr>\n",
       "    <tr>\n",
       "      <th>std</th>\n",
       "      <td>257.353842</td>\n",
       "      <td>0.486592</td>\n",
       "      <td>0.836071</td>\n",
       "      <td>14.526497</td>\n",
       "      <td>1.102743</td>\n",
       "      <td>0.806057</td>\n",
       "      <td>49.693429</td>\n",
       "      <td>0.0</td>\n",
       "    </tr>\n",
       "    <tr>\n",
       "      <th>min</th>\n",
       "      <td>1.000000</td>\n",
       "      <td>0.000000</td>\n",
       "      <td>1.000000</td>\n",
       "      <td>0.420000</td>\n",
       "      <td>0.000000</td>\n",
       "      <td>0.000000</td>\n",
       "      <td>0.000000</td>\n",
       "      <td>1.0</td>\n",
       "    </tr>\n",
       "    <tr>\n",
       "      <th>25%</th>\n",
       "      <td>223.500000</td>\n",
       "      <td>0.000000</td>\n",
       "      <td>2.000000</td>\n",
       "      <td>20.125000</td>\n",
       "      <td>0.000000</td>\n",
       "      <td>0.000000</td>\n",
       "      <td>7.910400</td>\n",
       "      <td>1.0</td>\n",
       "    </tr>\n",
       "    <tr>\n",
       "      <th>50%</th>\n",
       "      <td>446.000000</td>\n",
       "      <td>0.000000</td>\n",
       "      <td>3.000000</td>\n",
       "      <td>28.000000</td>\n",
       "      <td>0.000000</td>\n",
       "      <td>0.000000</td>\n",
       "      <td>14.454200</td>\n",
       "      <td>1.0</td>\n",
       "    </tr>\n",
       "    <tr>\n",
       "      <th>75%</th>\n",
       "      <td>668.500000</td>\n",
       "      <td>1.000000</td>\n",
       "      <td>3.000000</td>\n",
       "      <td>38.000000</td>\n",
       "      <td>1.000000</td>\n",
       "      <td>0.000000</td>\n",
       "      <td>31.000000</td>\n",
       "      <td>1.0</td>\n",
       "    </tr>\n",
       "    <tr>\n",
       "      <th>max</th>\n",
       "      <td>891.000000</td>\n",
       "      <td>1.000000</td>\n",
       "      <td>3.000000</td>\n",
       "      <td>80.000000</td>\n",
       "      <td>8.000000</td>\n",
       "      <td>6.000000</td>\n",
       "      <td>512.329200</td>\n",
       "      <td>1.0</td>\n",
       "    </tr>\n",
       "  </tbody>\n",
       "</table>\n",
       "</div>"
      ],
      "text/plain": [
       "       PassengerId    Survived      Pclass         Age       SibSp  \\\n",
       "count   891.000000  891.000000  891.000000  714.000000  891.000000   \n",
       "mean    446.000000    0.383838    2.308642   29.699118    0.523008   \n",
       "std     257.353842    0.486592    0.836071   14.526497    1.102743   \n",
       "min       1.000000    0.000000    1.000000    0.420000    0.000000   \n",
       "25%     223.500000    0.000000    2.000000   20.125000    0.000000   \n",
       "50%     446.000000    0.000000    3.000000   28.000000    0.000000   \n",
       "75%     668.500000    1.000000    3.000000   38.000000    1.000000   \n",
       "max     891.000000    1.000000    3.000000   80.000000    8.000000   \n",
       "\n",
       "            Parch        Fare  train_test  \n",
       "count  891.000000  891.000000       891.0  \n",
       "mean     0.381594   32.204208         1.0  \n",
       "std      0.806057   49.693429         0.0  \n",
       "min      0.000000    0.000000         1.0  \n",
       "25%      0.000000    7.910400         1.0  \n",
       "50%      0.000000   14.454200         1.0  \n",
       "75%      0.000000   31.000000         1.0  \n",
       "max      6.000000  512.329200         1.0  "
      ]
     },
     "execution_count": 4,
     "metadata": {},
     "output_type": "execute_result"
    }
   ],
   "source": [
    "training.describe()"
   ]
  },
  {
   "cell_type": "markdown",
   "execution_count": null,
   "metadata": {
    "papermill": {
     "duration": 0.012738,
     "end_time": "2020-08-17T10:33:21.613264",
     "exception": false,
     "start_time": "2020-08-17T10:33:21.600526",
     "status": "completed"
    },
    "tags": []
   },
   "source": [
    "# DATA EXPLORATION\n",
    "  **NUMERICAL DATA**\n",
    "   * make histogram to understand distribution\n",
    "   * corr plot\n",
    "   * Pivot table comparing survival rate across numeric variables\n",
    "   \n",
    "  **CATEGORICAL DATA**\n",
    "   * Made bar charts to understand balance of classes\n",
    "   * Made pivot tables to understand relationship with survival\n",
    "   "
   ]
  },
  {
   "cell_type": "code",
   "execution_count": 5,
   "metadata": {
    "execution": {
     "iopub.execute_input": "2020-08-17T10:33:21.649345Z",
     "iopub.status.busy": "2020-08-17T10:33:21.647380Z",
     "iopub.status.idle": "2020-08-17T10:33:21.671987Z",
     "shell.execute_reply": "2020-08-17T10:33:21.671240Z"
    },
    "papermill": {
     "duration": 0.045659,
     "end_time": "2020-08-17T10:33:21.672116",
     "exception": false,
     "start_time": "2020-08-17T10:33:21.626457",
     "status": "completed"
    },
    "tags": []
   },
   "outputs": [
    {
     "data": {
      "text/plain": [
       "Index(['PassengerId', 'Survived', 'Pclass', 'Age', 'SibSp', 'Parch', 'Fare',\n",
       "       'train_test'],\n",
       "      dtype='object')"
      ]
     },
     "execution_count": 5,
     "metadata": {},
     "output_type": "execute_result"
    }
   ],
   "source": [
    "training.describe().columns"
   ]
  },
  {
   "cell_type": "code",
   "execution_count": 6,
   "metadata": {
    "execution": {
     "iopub.execute_input": "2020-08-17T10:33:21.708116Z",
     "iopub.status.busy": "2020-08-17T10:33:21.707064Z",
     "iopub.status.idle": "2020-08-17T10:33:21.710756Z",
     "shell.execute_reply": "2020-08-17T10:33:21.710014Z"
    },
    "papermill": {
     "duration": 0.025454,
     "end_time": "2020-08-17T10:33:21.710881",
     "exception": false,
     "start_time": "2020-08-17T10:33:21.685427",
     "status": "completed"
    },
    "tags": []
   },
   "outputs": [],
   "source": [
    "df_num=training[['Age','SibSp','Parch','Fare']]\n",
    "df_cat = training[['Survived','Pclass','Sex','Ticket','Cabin','Embarked']]"
   ]
  },
  {
   "cell_type": "code",
   "execution_count": 7,
   "metadata": {
    "execution": {
     "iopub.execute_input": "2020-08-17T10:33:21.744089Z",
     "iopub.status.busy": "2020-08-17T10:33:21.743321Z",
     "iopub.status.idle": "2020-08-17T10:33:22.536300Z",
     "shell.execute_reply": "2020-08-17T10:33:22.535615Z"
    },
    "papermill": {
     "duration": 0.8121,
     "end_time": "2020-08-17T10:33:22.536426",
     "exception": false,
     "start_time": "2020-08-17T10:33:21.724326",
     "status": "completed"
    },
    "tags": []
   },
   "outputs": [
    {
     "name": "stderr",
     "output_type": "stream",
     "text": [
      "/opt/conda/lib/python3.7/site-packages/numpy/lib/histograms.py:839: RuntimeWarning: invalid value encountered in greater_equal\n",
      "  keep = (tmp_a >= first_edge)\n",
      "/opt/conda/lib/python3.7/site-packages/numpy/lib/histograms.py:840: RuntimeWarning: invalid value encountered in less_equal\n",
      "  keep &= (tmp_a <= last_edge)\n"
     ]
    },
    {
     "data": {
      "image/png": "[encoded data removed]",
      "text/plain": [
       "<Figure size 432x288 with 1 Axes>"
      ]
     },
     "metadata": {
      "needs_background": "light"
     },
     "output_type": "display_data"
    },
    {
     "data": {
      "image/png": "[encoded data removed]",
      "text/plain": [
       "<Figure size 432x288 with 1 Axes>"
      ]
     },
     "metadata": {
      "needs_background": "light"
     },
     "output_type": "display_data"
    },
    {
     "data": {
      "image/png": "[encoded data removed]",
      "text/plain": [
       "<Figure size 432x288 with 1 Axes>"
      ]
     },
     "metadata": {
      "needs_background": "light"
     },
     "output_type": "display_data"
    },
    {
     "data": {
      "image/png": "[encoded data removed]",
      "text/plain": [
       "<Figure size 432x288 with 1 Axes>"
      ]
     },
     "metadata": {
      "needs_background": "light"
     },
     "output_type": "display_data"
    }
   ],
   "source": [
    "for i in df_num.columns:\n",
    "    plt.hist(df_num[i])\n",
    "    plt.title(i)\n",
    "    plt.show()"
   ]
  },
  {
   "cell_type": "code",
   "execution_count": 8,
   "metadata": {
    "execution": {
     "iopub.execute_input": "2020-08-17T10:33:22.575512Z",
     "iopub.status.busy": "2020-08-17T10:33:22.572220Z",
     "iopub.status.idle": "2020-08-17T10:33:27.577181Z",
     "shell.execute_reply": "2020-08-17T10:33:27.577864Z"
    },
    "papermill": {
     "duration": 5.026909,
     "end_time": "2020-08-17T10:33:27.578038",
     "exception": false,
     "start_time": "2020-08-17T10:33:22.551129",
     "status": "completed"
    },
    "tags": []
   },
   "outputs": [
    {
     "name": "stdout",
     "output_type": "stream",
     "text": [
      "            Age     SibSp     Parch      Fare\n",
      "Age    1.000000 -0.308247 -0.189119  0.096067\n",
      "SibSp -0.308247  1.000000  0.414838  0.159651\n",
      "Parch -0.189119  0.414838  1.000000  0.216225\n",
      "Fare   0.096067  0.159651  0.216225  1.000000\n"
     ]
    },
    {
     "data": {
      "text/plain": [
       "<seaborn.axisgrid.PairGrid at 0x7f27da7f7b10>"
      ]
     },
     "execution_count": 8,
     "metadata": {},
     "output_type": "execute_result"
    },
    {
     "data": {
      "image/png": "[encoded data removed]",
      "text/plain": [
       "<Figure size 432x288 with 2 Axes>"
      ]
     },
     "metadata": {
      "needs_background": "light"
     },
     "output_type": "display_data"
    },
    {
     "data": {
      "image/png": "[encoded data removed]",
      "text/plain": [
       "<Figure size 720x720 with 20 Axes>"
      ]
     },
     "metadata": {
      "needs_background": "light"
     },
     "output_type": "display_data"
    }
   ],
   "source": [
    "print(df_num.corr())\n",
    "sns.heatmap(df_num.corr())\n",
    "sns.pairplot(df_num)"
   ]
  },
  {
   "cell_type": "code",
   "execution_count": 9,
   "metadata": {
    "execution": {
     "iopub.execute_input": "2020-08-17T10:33:27.629652Z",
     "iopub.status.busy": "2020-08-17T10:33:27.618053Z",
     "iopub.status.idle": "2020-08-17T10:33:27.634744Z",
     "shell.execute_reply": "2020-08-17T10:33:27.634105Z"
    },
    "papermill": {
     "duration": 0.04091,
     "end_time": "2020-08-17T10:33:27.634870",
     "exception": false,
     "start_time": "2020-08-17T10:33:27.593960",
     "status": "completed"
    },
    "tags": []
   },
   "outputs": [
    {
     "data": {
      "text/html": [
       "<div>\n",
       "<style scoped>\n",
       "    .dataframe tbody tr th:only-of-type {\n",
       "        vertical-align: middle;\n",
       "    }\n",
       "\n",
       "    .dataframe tbody tr th {\n",
       "        vertical-align: top;\n",
       "    }\n",
       "\n",
       "    .dataframe thead th {\n",
       "        text-align: right;\n",
       "    }\n",
       "</style>\n",
       "<table border=\"1\" class=\"dataframe\">\n",
       "  <thead>\n",
       "    <tr style=\"text-align: right;\">\n",
       "      <th></th>\n",
       "      <th>Age</th>\n",
       "      <th>Fare</th>\n",
       "      <th>Parch</th>\n",
       "      <th>SibSp</th>\n",
       "    </tr>\n",
       "    <tr>\n",
       "      <th>Survived</th>\n",
       "      <th></th>\n",
       "      <th></th>\n",
       "      <th></th>\n",
       "      <th></th>\n",
       "    </tr>\n",
       "  </thead>\n",
       "  <tbody>\n",
       "    <tr>\n",
       "      <th>0</th>\n",
       "      <td>424</td>\n",
       "      <td>549</td>\n",
       "      <td>549</td>\n",
       "      <td>549</td>\n",
       "    </tr>\n",
       "    <tr>\n",
       "      <th>1</th>\n",
       "      <td>290</td>\n",
       "      <td>342</td>\n",
       "      <td>342</td>\n",
       "      <td>342</td>\n",
       "    </tr>\n",
       "  </tbody>\n",
       "</table>\n",
       "</div>"
      ],
      "text/plain": [
       "          Age  Fare  Parch  SibSp\n",
       "Survived                         \n",
       "0         424   549    549    549\n",
       "1         290   342    342    342"
      ]
     },
     "execution_count": 9,
     "metadata": {},
     "output_type": "execute_result"
    }
   ],
   "source": [
    "pd.pivot_table(training,index='Survived',values=['Age','SibSp','Parch','Fare'],aggfunc='count')"
   ]
  },
  {
   "cell_type": "code",
   "execution_count": 10,
   "metadata": {
    "execution": {
     "iopub.execute_input": "2020-08-17T10:33:27.782966Z",
     "iopub.status.busy": "2020-08-17T10:33:27.775845Z",
     "iopub.status.idle": "2020-08-17T10:33:39.063990Z",
     "shell.execute_reply": "2020-08-17T10:33:39.063150Z"
    },
    "papermill": {
     "duration": 11.413306,
     "end_time": "2020-08-17T10:33:39.064128",
     "exception": false,
     "start_time": "2020-08-17T10:33:27.650822",
     "status": "completed"
    },
    "tags": []
   },
   "outputs": [
    {
     "data": {
      "image/png": "[encoded data removed]",
      "text/plain": [
       "<Figure size 432x288 with 1 Axes>"
      ]
     },
     "metadata": {
      "needs_background": "light"
     },
     "output_type": "display_data"
    },
    {
     "data": {
      "image/png": "[encoded data removed]",
      "text/plain": [
       "<Figure size 432x288 with 1 Axes>"
      ]
     },
     "metadata": {
      "needs_background": "light"
     },
     "output_type": "display_data"
    },
    {
     "data": {
      "image/png": "[encoded data removed]",
      "text/plain": [
       "<Figure size 432x288 with 1 Axes>"
      ]
     },
     "metadata": {
      "needs_background": "light"
     },
     "output_type": "display_data"
    },
    {
     "data": {
      "image/png": "[encoded data removed]",
      "text/plain": [
       "<Figure size 432x288 with 1 Axes>"
      ]
     },
     "metadata": {
      "needs_background": "light"
     },
     "output_type": "display_data"
    },
    {
     "data": {
      "image/png": "[encoded data removed]",
      "text/plain": [
       "<Figure size 432x288 with 1 Axes>"
      ]
     },
     "metadata": {
      "needs_background": "light"
     },
     "output_type": "display_data"
    },
    {
     "data": {
      "image/png": "[encoded data removed]",
      "text/plain": [
       "<Figure size 432x288 with 1 Axes>"
      ]
     },
     "metadata": {
      "needs_background": "light"
     },
     "output_type": "display_data"
    }
   ],
   "source": [
    "for i in df_cat.columns:\n",
    "    sns.barplot(df_cat[i].value_counts().index,df_cat[i].value_counts())\n",
    "    plt.title(i)\n",
    "    plt.show()\n",
    "    "
   ]
  },
  {
   "cell_type": "markdown",
   "execution_count": null,
   "metadata": {
    "papermill": {
     "duration": 0.016421,
     "end_time": "2020-08-17T10:33:39.098080",
     "exception": false,
     "start_time": "2020-08-17T10:33:39.081659",
     "status": "completed"
    },
    "tags": []
   },
   "source": [
    "**It looks like ticket and cabin bar chat are so noisy. we have to do some feature engineering.**"
   ]
  },
  {
   "cell_type": "code",
   "execution_count": 11,
   "metadata": {
    "execution": {
     "iopub.execute_input": "2020-08-17T10:33:39.143376Z",
     "iopub.status.busy": "2020-08-17T10:33:39.142532Z",
     "iopub.status.idle": "2020-08-17T10:33:39.182971Z",
     "shell.execute_reply": "2020-08-17T10:33:39.183790Z"
    },
    "papermill": {
     "duration": 0.069086,
     "end_time": "2020-08-17T10:33:39.184035",
     "exception": false,
     "start_time": "2020-08-17T10:33:39.114949",
     "status": "completed"
    },
    "tags": []
   },
   "outputs": [
    {
     "name": "stdout",
     "output_type": "stream",
     "text": [
      "Pclass      1   2    3\n",
      "Survived              \n",
      "0          80  97  372\n",
      "1         136  87  119\n",
      "\n",
      "Sex       female  male\n",
      "Survived              \n",
      "0             81   468\n",
      "1            233   109\n",
      "\n",
      "Embarked   C   Q    S\n",
      "Survived             \n",
      "0         75  47  427\n",
      "1         93  30  217\n"
     ]
    }
   ],
   "source": [
    "print(pd.pivot_table(training, index = 'Survived', columns = 'Pclass',\n",
    "                     values = 'Ticket' ,aggfunc ='count'))\n",
    "print()\n",
    "print(pd.pivot_table(training, index = 'Survived', columns = 'Sex',\n",
    "                     values = 'Ticket' ,aggfunc ='count'))\n",
    "print()\n",
    "print(pd.pivot_table(training, index = 'Survived', columns = 'Embarked',\n",
    "                     values = 'Ticket' ,aggfunc ='count'))"
   ]
  },
  {
   "cell_type": "code",
   "execution_count": 12,
   "metadata": {
    "execution": {
     "iopub.execute_input": "2020-08-17T10:33:39.231647Z",
     "iopub.status.busy": "2020-08-17T10:33:39.230800Z",
     "iopub.status.idle": "2020-08-17T10:33:39.235312Z",
     "shell.execute_reply": "2020-08-17T10:33:39.235880Z"
    },
    "papermill": {
     "duration": 0.03412,
     "end_time": "2020-08-17T10:33:39.236053",
     "exception": false,
     "start_time": "2020-08-17T10:33:39.201933",
     "status": "completed"
    },
    "tags": []
   },
   "outputs": [
    {
     "data": {
      "text/plain": [
       "0    687\n",
       "1    180\n",
       "2     16\n",
       "3      6\n",
       "4      2\n",
       "Name: cabin_multiple, dtype: int64"
      ]
     },
     "execution_count": 12,
     "metadata": {},
     "output_type": "execute_result"
    }
   ],
   "source": [
    "training['cabin_multiple']=training.Cabin.apply(lambda x:0 if pd.isna(x) else len(x.split(' ')))\n",
    "training['cabin_multiple'].value_counts()"
   ]
  },
  {
   "cell_type": "code",
   "execution_count": 13,
   "metadata": {
    "execution": {
     "iopub.execute_input": "2020-08-17T10:33:39.279049Z",
     "iopub.status.busy": "2020-08-17T10:33:39.276724Z",
     "iopub.status.idle": "2020-08-17T10:33:39.299203Z",
     "shell.execute_reply": "2020-08-17T10:33:39.298455Z"
    },
    "papermill": {
     "duration": 0.045833,
     "end_time": "2020-08-17T10:33:39.299328",
     "exception": false,
     "start_time": "2020-08-17T10:33:39.253495",
     "status": "completed"
    },
    "tags": []
   },
   "outputs": [
    {
     "data": {
      "text/html": [
       "<div>\n",
       "<style scoped>\n",
       "    .dataframe tbody tr th:only-of-type {\n",
       "        vertical-align: middle;\n",
       "    }\n",
       "\n",
       "    .dataframe tbody tr th {\n",
       "        vertical-align: top;\n",
       "    }\n",
       "\n",
       "    .dataframe thead th {\n",
       "        text-align: right;\n",
       "    }\n",
       "</style>\n",
       "<table border=\"1\" class=\"dataframe\">\n",
       "  <thead>\n",
       "    <tr style=\"text-align: right;\">\n",
       "      <th>cabin_multiple</th>\n",
       "      <th>0</th>\n",
       "      <th>1</th>\n",
       "      <th>2</th>\n",
       "      <th>3</th>\n",
       "      <th>4</th>\n",
       "    </tr>\n",
       "    <tr>\n",
       "      <th>Survived</th>\n",
       "      <th></th>\n",
       "      <th></th>\n",
       "      <th></th>\n",
       "      <th></th>\n",
       "      <th></th>\n",
       "    </tr>\n",
       "  </thead>\n",
       "  <tbody>\n",
       "    <tr>\n",
       "      <th>0</th>\n",
       "      <td>481.0</td>\n",
       "      <td>58.0</td>\n",
       "      <td>7.0</td>\n",
       "      <td>3.0</td>\n",
       "      <td>NaN</td>\n",
       "    </tr>\n",
       "    <tr>\n",
       "      <th>1</th>\n",
       "      <td>206.0</td>\n",
       "      <td>122.0</td>\n",
       "      <td>9.0</td>\n",
       "      <td>3.0</td>\n",
       "      <td>2.0</td>\n",
       "    </tr>\n",
       "  </tbody>\n",
       "</table>\n",
       "</div>"
      ],
      "text/plain": [
       "cabin_multiple      0      1    2    3    4\n",
       "Survived                                   \n",
       "0               481.0   58.0  7.0  3.0  NaN\n",
       "1               206.0  122.0  9.0  3.0  2.0"
      ]
     },
     "execution_count": 13,
     "metadata": {},
     "output_type": "execute_result"
    }
   ],
   "source": [
    "pd.pivot_table(training,index='Survived',columns='cabin_multiple',\n",
    "               values='Ticket',aggfunc='count')"
   ]
  },
  {
   "cell_type": "code",
   "execution_count": 14,
   "metadata": {
    "execution": {
     "iopub.execute_input": "2020-08-17T10:33:39.348622Z",
     "iopub.status.busy": "2020-08-17T10:33:39.346585Z",
     "iopub.status.idle": "2020-08-17T10:33:39.375279Z",
     "shell.execute_reply": "2020-08-17T10:33:39.374666Z"
    },
    "papermill": {
     "duration": 0.058118,
     "end_time": "2020-08-17T10:33:39.375416",
     "exception": false,
     "start_time": "2020-08-17T10:33:39.317298",
     "status": "completed"
    },
    "tags": []
   },
   "outputs": [
    {
     "name": "stdout",
     "output_type": "stream",
     "text": [
      "n    687\n",
      "C     59\n",
      "B     47\n",
      "D     33\n",
      "E     32\n",
      "A     15\n",
      "F     13\n",
      "G      4\n",
      "T      1\n",
      "Name: cabin_adv, dtype: int64\n"
     ]
    },
    {
     "data": {
      "text/html": [
       "<div>\n",
       "<style scoped>\n",
       "    .dataframe tbody tr th:only-of-type {\n",
       "        vertical-align: middle;\n",
       "    }\n",
       "\n",
       "    .dataframe tbody tr th {\n",
       "        vertical-align: top;\n",
       "    }\n",
       "\n",
       "    .dataframe thead th {\n",
       "        text-align: right;\n",
       "    }\n",
       "</style>\n",
       "<table border=\"1\" class=\"dataframe\">\n",
       "  <thead>\n",
       "    <tr style=\"text-align: right;\">\n",
       "      <th>cabin_adv</th>\n",
       "      <th>A</th>\n",
       "      <th>B</th>\n",
       "      <th>C</th>\n",
       "      <th>D</th>\n",
       "      <th>E</th>\n",
       "      <th>F</th>\n",
       "      <th>G</th>\n",
       "      <th>T</th>\n",
       "      <th>n</th>\n",
       "    </tr>\n",
       "    <tr>\n",
       "      <th>Survived</th>\n",
       "      <th></th>\n",
       "      <th></th>\n",
       "      <th></th>\n",
       "      <th></th>\n",
       "      <th></th>\n",
       "      <th></th>\n",
       "      <th></th>\n",
       "      <th></th>\n",
       "      <th></th>\n",
       "    </tr>\n",
       "  </thead>\n",
       "  <tbody>\n",
       "    <tr>\n",
       "      <th>0</th>\n",
       "      <td>8.0</td>\n",
       "      <td>12.0</td>\n",
       "      <td>24.0</td>\n",
       "      <td>8.0</td>\n",
       "      <td>8.0</td>\n",
       "      <td>5.0</td>\n",
       "      <td>2.0</td>\n",
       "      <td>1.0</td>\n",
       "      <td>481.0</td>\n",
       "    </tr>\n",
       "    <tr>\n",
       "      <th>1</th>\n",
       "      <td>7.0</td>\n",
       "      <td>35.0</td>\n",
       "      <td>35.0</td>\n",
       "      <td>25.0</td>\n",
       "      <td>24.0</td>\n",
       "      <td>8.0</td>\n",
       "      <td>2.0</td>\n",
       "      <td>NaN</td>\n",
       "      <td>206.0</td>\n",
       "    </tr>\n",
       "  </tbody>\n",
       "</table>\n",
       "</div>"
      ],
      "text/plain": [
       "cabin_adv    A     B     C     D     E    F    G    T      n\n",
       "Survived                                                    \n",
       "0          8.0  12.0  24.0   8.0   8.0  5.0  2.0  1.0  481.0\n",
       "1          7.0  35.0  35.0  25.0  24.0  8.0  2.0  NaN  206.0"
      ]
     },
     "execution_count": 14,
     "metadata": {},
     "output_type": "execute_result"
    }
   ],
   "source": [
    "training['cabin_adv'] = training.Cabin.apply(lambda x: str(x)[0])\n",
    "print(training['cabin_adv'].value_counts())\n",
    "pd.pivot_table(training,index='Survived',columns='cabin_adv',\n",
    "               values='Name',aggfunc='count')\n"
   ]
  },
  {
   "cell_type": "code",
   "execution_count": 15,
   "metadata": {
    "execution": {
     "iopub.execute_input": "2020-08-17T10:33:39.424949Z",
     "iopub.status.busy": "2020-08-17T10:33:39.423975Z",
     "iopub.status.idle": "2020-08-17T10:33:39.427087Z",
     "shell.execute_reply": "2020-08-17T10:33:39.426451Z"
    },
    "papermill": {
     "duration": 0.033727,
     "end_time": "2020-08-17T10:33:39.427218",
     "exception": false,
     "start_time": "2020-08-17T10:33:39.393491",
     "status": "completed"
    },
    "tags": []
   },
   "outputs": [],
   "source": [
    "#understand ticket values better \n",
    "#numeric vs non numeric\n",
    "training['numeric_ticket']=training.Ticket.apply(lambda x:1 if x.isnumeric() else 0)\n",
    "training['ticket_letters'] = training.Ticket.apply(lambda x: ''.join\n",
    "(x.split(' ')[:-1]).replace('.','').replace('/','').lower() if len(x.split(' ')[:-1]) >0 else 0)"
   ]
  },
  {
   "cell_type": "code",
   "execution_count": 16,
   "metadata": {
    "execution": {
     "iopub.execute_input": "2020-08-17T10:33:39.472005Z",
     "iopub.status.busy": "2020-08-17T10:33:39.471121Z",
     "iopub.status.idle": "2020-08-17T10:33:39.475898Z",
     "shell.execute_reply": "2020-08-17T10:33:39.475147Z"
    },
    "papermill": {
     "duration": 0.030592,
     "end_time": "2020-08-17T10:33:39.476051",
     "exception": false,
     "start_time": "2020-08-17T10:33:39.445459",
     "status": "completed"
    },
    "tags": []
   },
   "outputs": [
    {
     "data": {
      "text/plain": [
       "1    661\n",
       "0    230\n",
       "Name: numeric_ticket, dtype: int64"
      ]
     },
     "execution_count": 16,
     "metadata": {},
     "output_type": "execute_result"
    }
   ],
   "source": [
    "training['numeric_ticket'].value_counts()"
   ]
  },
  {
   "cell_type": "code",
   "execution_count": 17,
   "metadata": {
    "execution": {
     "iopub.execute_input": "2020-08-17T10:33:39.521474Z",
     "iopub.status.busy": "2020-08-17T10:33:39.520664Z",
     "iopub.status.idle": "2020-08-17T10:33:39.525829Z",
     "shell.execute_reply": "2020-08-17T10:33:39.525082Z"
    },
    "papermill": {
     "duration": 0.031641,
     "end_time": "2020-08-17T10:33:39.525962",
     "exception": false,
     "start_time": "2020-08-17T10:33:39.494321",
     "status": "completed"
    },
    "tags": []
   },
   "outputs": [
    {
     "data": {
      "text/plain": [
       "0            665\n",
       "pc            60\n",
       "ca            41\n",
       "a5            21\n",
       "stono2        18\n",
       "sotonoq       15\n",
       "scparis       11\n",
       "wc            10\n",
       "a4             7\n",
       "soc            6\n",
       "c              5\n",
       "fcc            5\n",
       "sopp           3\n",
       "wep            3\n",
       "pp             3\n",
       "sotono2        2\n",
       "ppp            2\n",
       "swpp           2\n",
       "scah           2\n",
       "fc             1\n",
       "sop            1\n",
       "sca4           1\n",
       "as             1\n",
       "scahbasle      1\n",
       "sc             1\n",
       "scow           1\n",
       "fa             1\n",
       "casoton        1\n",
       "sp             1\n",
       "Name: ticket_letters, dtype: int64"
      ]
     },
     "execution_count": 17,
     "metadata": {},
     "output_type": "execute_result"
    }
   ],
   "source": [
    "training['ticket_letters'].value_counts()"
   ]
  },
  {
   "cell_type": "code",
   "execution_count": 18,
   "metadata": {
    "execution": {
     "iopub.execute_input": "2020-08-17T10:33:39.570584Z",
     "iopub.status.busy": "2020-08-17T10:33:39.568200Z",
     "iopub.status.idle": "2020-08-17T10:33:39.586938Z",
     "shell.execute_reply": "2020-08-17T10:33:39.586280Z"
    },
    "papermill": {
     "duration": 0.043002,
     "end_time": "2020-08-17T10:33:39.587066",
     "exception": false,
     "start_time": "2020-08-17T10:33:39.544064",
     "status": "completed"
    },
    "tags": []
   },
   "outputs": [
    {
     "data": {
      "text/html": [
       "<div>\n",
       "<style scoped>\n",
       "    .dataframe tbody tr th:only-of-type {\n",
       "        vertical-align: middle;\n",
       "    }\n",
       "\n",
       "    .dataframe tbody tr th {\n",
       "        vertical-align: top;\n",
       "    }\n",
       "\n",
       "    .dataframe thead th {\n",
       "        text-align: right;\n",
       "    }\n",
       "</style>\n",
       "<table border=\"1\" class=\"dataframe\">\n",
       "  <thead>\n",
       "    <tr style=\"text-align: right;\">\n",
       "      <th>numeric_ticket</th>\n",
       "      <th>0</th>\n",
       "      <th>1</th>\n",
       "    </tr>\n",
       "    <tr>\n",
       "      <th>Survived</th>\n",
       "      <th></th>\n",
       "      <th></th>\n",
       "    </tr>\n",
       "  </thead>\n",
       "  <tbody>\n",
       "    <tr>\n",
       "      <th>0</th>\n",
       "      <td>142</td>\n",
       "      <td>407</td>\n",
       "    </tr>\n",
       "    <tr>\n",
       "      <th>1</th>\n",
       "      <td>88</td>\n",
       "      <td>254</td>\n",
       "    </tr>\n",
       "  </tbody>\n",
       "</table>\n",
       "</div>"
      ],
      "text/plain": [
       "numeric_ticket    0    1\n",
       "Survived                \n",
       "0               142  407\n",
       "1                88  254"
      ]
     },
     "execution_count": 18,
     "metadata": {},
     "output_type": "execute_result"
    }
   ],
   "source": [
    "#difference in numeric vs non-numeric tickets in survival rate \n",
    "pd.pivot_table(training,index='Survived',columns='numeric_ticket',\n",
    "               values = 'Ticket', aggfunc='count')"
   ]
  },
  {
   "cell_type": "code",
   "execution_count": 19,
   "metadata": {
    "execution": {
     "iopub.execute_input": "2020-08-17T10:33:39.633504Z",
     "iopub.status.busy": "2020-08-17T10:33:39.632774Z",
     "iopub.status.idle": "2020-08-17T10:33:39.666666Z",
     "shell.execute_reply": "2020-08-17T10:33:39.666067Z"
    },
    "papermill": {
     "duration": 0.061099,
     "end_time": "2020-08-17T10:33:39.666800",
     "exception": false,
     "start_time": "2020-08-17T10:33:39.605701",
     "status": "completed"
    },
    "tags": []
   },
   "outputs": [
    {
     "data": {
      "text/html": [
       "<div>\n",
       "<style scoped>\n",
       "    .dataframe tbody tr th:only-of-type {\n",
       "        vertical-align: middle;\n",
       "    }\n",
       "\n",
       "    .dataframe tbody tr th {\n",
       "        vertical-align: top;\n",
       "    }\n",
       "\n",
       "    .dataframe thead th {\n",
       "        text-align: right;\n",
       "    }\n",
       "</style>\n",
       "<table border=\"1\" class=\"dataframe\">\n",
       "  <thead>\n",
       "    <tr style=\"text-align: right;\">\n",
       "      <th>ticket_letters</th>\n",
       "      <th>0</th>\n",
       "      <th>a4</th>\n",
       "      <th>a5</th>\n",
       "      <th>as</th>\n",
       "      <th>c</th>\n",
       "      <th>ca</th>\n",
       "      <th>casoton</th>\n",
       "      <th>fa</th>\n",
       "      <th>fc</th>\n",
       "      <th>fcc</th>\n",
       "      <th>...</th>\n",
       "      <th>soc</th>\n",
       "      <th>sop</th>\n",
       "      <th>sopp</th>\n",
       "      <th>sotono2</th>\n",
       "      <th>sotonoq</th>\n",
       "      <th>sp</th>\n",
       "      <th>stono2</th>\n",
       "      <th>swpp</th>\n",
       "      <th>wc</th>\n",
       "      <th>wep</th>\n",
       "    </tr>\n",
       "    <tr>\n",
       "      <th>Survived</th>\n",
       "      <th></th>\n",
       "      <th></th>\n",
       "      <th></th>\n",
       "      <th></th>\n",
       "      <th></th>\n",
       "      <th></th>\n",
       "      <th></th>\n",
       "      <th></th>\n",
       "      <th></th>\n",
       "      <th></th>\n",
       "      <th></th>\n",
       "      <th></th>\n",
       "      <th></th>\n",
       "      <th></th>\n",
       "      <th></th>\n",
       "      <th></th>\n",
       "      <th></th>\n",
       "      <th></th>\n",
       "      <th></th>\n",
       "      <th></th>\n",
       "      <th></th>\n",
       "    </tr>\n",
       "  </thead>\n",
       "  <tbody>\n",
       "    <tr>\n",
       "      <th>0</th>\n",
       "      <td>410.0</td>\n",
       "      <td>7.0</td>\n",
       "      <td>19.0</td>\n",
       "      <td>1.0</td>\n",
       "      <td>3.0</td>\n",
       "      <td>27.0</td>\n",
       "      <td>1.0</td>\n",
       "      <td>1.0</td>\n",
       "      <td>1.0</td>\n",
       "      <td>1.0</td>\n",
       "      <td>...</td>\n",
       "      <td>5.0</td>\n",
       "      <td>1.0</td>\n",
       "      <td>3.0</td>\n",
       "      <td>2.0</td>\n",
       "      <td>13.0</td>\n",
       "      <td>1.0</td>\n",
       "      <td>10.0</td>\n",
       "      <td>NaN</td>\n",
       "      <td>9.0</td>\n",
       "      <td>2.0</td>\n",
       "    </tr>\n",
       "    <tr>\n",
       "      <th>1</th>\n",
       "      <td>255.0</td>\n",
       "      <td>NaN</td>\n",
       "      <td>2.0</td>\n",
       "      <td>NaN</td>\n",
       "      <td>2.0</td>\n",
       "      <td>14.0</td>\n",
       "      <td>NaN</td>\n",
       "      <td>NaN</td>\n",
       "      <td>NaN</td>\n",
       "      <td>4.0</td>\n",
       "      <td>...</td>\n",
       "      <td>1.0</td>\n",
       "      <td>NaN</td>\n",
       "      <td>NaN</td>\n",
       "      <td>NaN</td>\n",
       "      <td>2.0</td>\n",
       "      <td>NaN</td>\n",
       "      <td>8.0</td>\n",
       "      <td>2.0</td>\n",
       "      <td>1.0</td>\n",
       "      <td>1.0</td>\n",
       "    </tr>\n",
       "  </tbody>\n",
       "</table>\n",
       "<p>2 rows × 29 columns</p>\n",
       "</div>"
      ],
      "text/plain": [
       "ticket_letters      0   a4    a5   as    c    ca  casoton   fa   fc  fcc  ...  \\\n",
       "Survived                                                                  ...   \n",
       "0               410.0  7.0  19.0  1.0  3.0  27.0      1.0  1.0  1.0  1.0  ...   \n",
       "1               255.0  NaN   2.0  NaN  2.0  14.0      NaN  NaN  NaN  4.0  ...   \n",
       "\n",
       "ticket_letters  soc  sop  sopp  sotono2  sotonoq   sp  stono2  swpp   wc  wep  \n",
       "Survived                                                                       \n",
       "0               5.0  1.0   3.0      2.0     13.0  1.0    10.0   NaN  9.0  2.0  \n",
       "1               1.0  NaN   NaN      NaN      2.0  NaN     8.0   2.0  1.0  1.0  \n",
       "\n",
       "[2 rows x 29 columns]"
      ]
     },
     "execution_count": 19,
     "metadata": {},
     "output_type": "execute_result"
    }
   ],
   "source": [
    "pd.pivot_table(training,index='Survived',columns='ticket_letters',\n",
    "               values = 'Ticket', aggfunc='count')"
   ]
  },
  {
   "cell_type": "code",
   "execution_count": 20,
   "metadata": {
    "execution": {
     "iopub.execute_input": "2020-08-17T10:33:39.714801Z",
     "iopub.status.busy": "2020-08-17T10:33:39.713709Z",
     "iopub.status.idle": "2020-08-17T10:33:39.716380Z",
     "shell.execute_reply": "2020-08-17T10:33:39.716964Z"
    },
    "papermill": {
     "duration": 0.030884,
     "end_time": "2020-08-17T10:33:39.717129",
     "exception": false,
     "start_time": "2020-08-17T10:33:39.686245",
     "status": "completed"
    },
    "tags": []
   },
   "outputs": [],
   "source": [
    "#feature engineering on person's name\n",
    "training['Name'].head(20)\n",
    "training['name_title']=training.Name.apply(lambda x:x.split(',')[1].split('.')[0])"
   ]
  },
  {
   "cell_type": "code",
   "execution_count": 21,
   "metadata": {
    "execution": {
     "iopub.execute_input": "2020-08-17T10:33:39.765071Z",
     "iopub.status.busy": "2020-08-17T10:33:39.763977Z",
     "iopub.status.idle": "2020-08-17T10:33:39.767543Z",
     "shell.execute_reply": "2020-08-17T10:33:39.768124Z"
    },
    "papermill": {
     "duration": 0.032045,
     "end_time": "2020-08-17T10:33:39.768297",
     "exception": false,
     "start_time": "2020-08-17T10:33:39.736252",
     "status": "completed"
    },
    "tags": []
   },
   "outputs": [
    {
     "data": {
      "text/plain": [
       " Mr              517\n",
       " Miss            182\n",
       " Mrs             125\n",
       " Master           40\n",
       " Dr                7\n",
       " Rev               6\n",
       " Major             2\n",
       " Col               2\n",
       " Mlle              2\n",
       " Lady              1\n",
       " Capt              1\n",
       " Jonkheer          1\n",
       " Ms                1\n",
       " Don               1\n",
       " the Countess      1\n",
       " Mme               1\n",
       " Sir               1\n",
       "Name: name_title, dtype: int64"
      ]
     },
     "execution_count": 21,
     "metadata": {},
     "output_type": "execute_result"
    }
   ],
   "source": [
    "training['name_title'].value_counts()"
   ]
  },
  {
   "cell_type": "markdown",
   "execution_count": null,
   "metadata": {
    "papermill": {
     "duration": 0.019257,
     "end_time": "2020-08-17T10:33:39.806988",
     "exception": false,
     "start_time": "2020-08-17T10:33:39.787731",
     "status": "completed"
    },
    "tags": []
   },
   "source": [
    "**DATA PREPROCESSING FOR MODEL**\n",
    "\n",
    "  1.drop null values from embarked(2 values missing)\n",
    "  \n",
    "  2. Include only relevant variables (Since we have limited data, I wanted to exclude things like name and passanger ID so that we could have a reasonable number of features for our models to deal with)   (Variables: 'Pclass', 'Sex','Age', 'SibSp', 'Parch', 'Fare', 'Embarked', 'cabin_adv', 'cabin_multiple', 'numeric_ticket', 'name_title')\n",
    "  \n",
    "  3.Do categorical transforms on all data. Usually we would use a transformer, but with this approach we can ensure that our traning and test data have the same colums. We also may be able to infer something about the shape of the test data through this method. I will stress, this is generally not recommend outside of a competition (use onehot encoder).\n",
    "  \n",
    "  4.Impute data with mean for fare and age (Should also experiment with median).\n",
    "  \n",
    "  5.Normalized fare using logarithm to give more semblance of a normal distribution.\n",
    "  \n",
    "  6.Scaled data 0-1 with standard scaler\n",
    "  \n"
   ]
  },
  {
   "cell_type": "code",
   "execution_count": 22,
   "metadata": {
    "execution": {
     "iopub.execute_input": "2020-08-17T10:33:39.873644Z",
     "iopub.status.busy": "2020-08-17T10:33:39.860575Z",
     "iopub.status.idle": "2020-08-17T10:33:40.075134Z",
     "shell.execute_reply": "2020-08-17T10:33:40.074436Z"
    },
    "papermill": {
     "duration": 0.248812,
     "end_time": "2020-08-17T10:33:40.075264",
     "exception": false,
     "start_time": "2020-08-17T10:33:39.826452",
     "status": "completed"
    },
    "tags": []
   },
   "outputs": [
    {
     "data": {
      "text/plain": [
       "<matplotlib.axes._subplots.AxesSubplot at 0x7f27d824a910>"
      ]
     },
     "execution_count": 22,
     "metadata": {},
     "output_type": "execute_result"
    },
    {
     "data": {
      "image/png": "[encoded data removed]",
      "text/plain": [
       "<Figure size 432x288 with 1 Axes>"
      ]
     },
     "metadata": {
      "needs_background": "light"
     },
     "output_type": "display_data"
    }
   ],
   "source": [
    "all_data['cabin_multiple'] = all_data.Cabin.apply(lambda x: 0 if pd.isna(x) else len(x.split(' ')))\n",
    "\n",
    "all_data['cabin_adv'] = all_data.Cabin.apply(lambda x: str(x)[0])\n",
    "\n",
    "all_data['numeric_ticket'] = all_data.Ticket.apply(lambda x: 1 if x.isnumeric() else 0)\n",
    "\n",
    "all_data['ticket_letters'] = all_data.Ticket.apply(lambda x: ''.join\n",
    "(x.split(' ')[:-1]).replace('.','').replace('/','').lower() if len(x.split(' ')[:-1]) >0 else 0)\n",
    "\n",
    "all_data['name_title'] = all_data.Name.apply(lambda x: x.split(',')[1].split('.')[0].strip())\n",
    "\n",
    "\n",
    "\n",
    "#impute nulls for continuous data \n",
    "all_data.Age = all_data.Age.fillna(training.Age.median())\n",
    "all_data.Fare = all_data.Fare.fillna(training.Fare.median())\n",
    "\n",
    "#drop null 'embarked' rows. Only 2 instances of this in training and 0 in test \n",
    "all_data.dropna(subset=['Embarked'],inplace = True)\n",
    "\n",
    "sns.heatmap(all_data.isnull(),yticklabels=False,cbar=False,cmap='viridis')\n",
    "#we are not going to include cabin in our data,we have already our cabin_multiple etc.\n",
    "\n",
    "\n",
    "\n",
    "\n"
   ]
  },
  {
   "cell_type": "code",
   "execution_count": 23,
   "metadata": {
    "execution": {
     "iopub.execute_input": "2020-08-17T10:33:40.132771Z",
     "iopub.status.busy": "2020-08-17T10:33:40.131740Z",
     "iopub.status.idle": "2020-08-17T10:33:40.149170Z",
     "shell.execute_reply": "2020-08-17T10:33:40.148418Z"
    },
    "papermill": {
     "duration": 0.054111,
     "end_time": "2020-08-17T10:33:40.149298",
     "exception": false,
     "start_time": "2020-08-17T10:33:40.095187",
     "status": "completed"
    },
    "tags": []
   },
   "outputs": [
    {
     "data": {
      "text/plain": [
       "(889,)"
      ]
     },
     "execution_count": 23,
     "metadata": {},
     "output_type": "execute_result"
    }
   ],
   "source": [
    "all_dummies = pd.get_dummies(all_data[['Pclass','Sex','SibSp','Parch','Embarked','cabin_adv',\n",
    "                                       'cabin_multiple','numeric_ticket','name_title','train_test']])\n",
    "\n",
    "\n",
    "age=all_data['Age']\n",
    "fare=all_data['Fare']\n",
    "all_dummies=pd.concat([all_dummies,age,fare],axis=1)\n",
    "\n",
    "#Split to train test again\n",
    "X_train = all_dummies[all_dummies.train_test == 1].drop(['train_test'], axis =1)\n",
    "X_test = all_dummies[all_dummies.train_test == 0].drop(['train_test'], axis =1)\n",
    "\n",
    "\n",
    "y_train = all_data[all_data.train_test==1].Survived\n",
    "y_train.shape"
   ]
  },
  {
   "cell_type": "markdown",
   "execution_count": null,
   "metadata": {
    "papermill": {
     "duration": 0.020383,
     "end_time": "2020-08-17T10:33:40.189837",
     "exception": false,
     "start_time": "2020-08-17T10:33:40.169454",
     "status": "completed"
    },
    "tags": []
   },
   "source": [
    "# MODEL BUILDING(CROSS VALIDATION PERFORMANCE)\n",
    "\n",
    "1.      Before going further, I like to see how various different models perform with default  parameters. I tried the following models using 5 fold cross validation to get a baseline.\n",
    "2.      With a validation set basline, we can see how much tuning improves each of the models. \n",
    "3.      Just because a model has a high basline on this validation set doesn't mean that it will actually do better on the eventual test set.\n",
    "\n",
    "            1.Naive Bayes (72.6%)\n",
    "            2.Logistic Regression (82.1%)\n",
    "            3.Decision Tree (78.6%)\n",
    "            4.KNearest Neighbor (81.5%)\n",
    "            5.Random Forest (80.6%)\n",
    "            6.Support Vector Classifier (83.2%)\n",
    "            8.Xtreme Gradient Boosting (81.8%)"
   ]
  },
  {
   "cell_type": "code",
   "execution_count": 24,
   "metadata": {
    "execution": {
     "iopub.execute_input": "2020-08-17T10:33:40.239557Z",
     "iopub.status.busy": "2020-08-17T10:33:40.238650Z",
     "iopub.status.idle": "2020-08-17T10:33:40.307319Z",
     "shell.execute_reply": "2020-08-17T10:33:40.306588Z"
    },
    "papermill": {
     "duration": 0.097449,
     "end_time": "2020-08-17T10:33:40.307456",
     "exception": false,
     "start_time": "2020-08-17T10:33:40.210007",
     "status": "completed"
    },
    "tags": []
   },
   "outputs": [],
   "source": [
    "#first  we need some feature scaling in our data\n",
    "from sklearn.preprocessing import StandardScaler\n",
    "scale = StandardScaler()\n",
    "all_dummies_scaled = all_dummies.copy()\n",
    "all_dummies_scaled[['Age','Fare']]= scale.fit_transform(all_dummies_scaled[['Age','Fare']])\n",
    "all_dummies_scaled\n",
    "\n",
    "X_train_scaled = all_dummies_scaled[all_dummies_scaled.train_test == 1].drop(['train_test'], axis =1)\n",
    "X_test_scaled = all_dummies_scaled[all_dummies_scaled.train_test == 0].drop(['train_test'], axis =1)\n",
    "\n",
    "y_train = all_data[all_data.train_test==1].Survived"
   ]
  },
  {
   "cell_type": "code",
   "execution_count": 25,
   "metadata": {
    "execution": {
     "iopub.execute_input": "2020-08-17T10:33:40.355471Z",
     "iopub.status.busy": "2020-08-17T10:33:40.354716Z",
     "iopub.status.idle": "2020-08-17T10:33:40.591621Z",
     "shell.execute_reply": "2020-08-17T10:33:40.590914Z"
    },
    "papermill": {
     "duration": 0.263546,
     "end_time": "2020-08-17T10:33:40.591797",
     "exception": false,
     "start_time": "2020-08-17T10:33:40.328251",
     "status": "completed"
    },
    "tags": []
   },
   "outputs": [],
   "source": [
    "#let's import class of different algorithm\n",
    "from sklearn.model_selection import cross_val_score\n",
    "from sklearn.naive_bayes import GaussianNB\n",
    "from sklearn.linear_model import LogisticRegression\n",
    "from sklearn.tree import DecisionTreeClassifier\n",
    "from sklearn.neighbors import KNeighborsClassifier\n",
    "from sklearn.ensemble import RandomForestClassifier\n",
    "from sklearn.svm import SVC"
   ]
  },
  {
   "cell_type": "code",
   "execution_count": 26,
   "metadata": {
    "execution": {
     "iopub.execute_input": "2020-08-17T10:33:40.640685Z",
     "iopub.status.busy": "2020-08-17T10:33:40.639518Z",
     "iopub.status.idle": "2020-08-17T10:33:40.684304Z",
     "shell.execute_reply": "2020-08-17T10:33:40.683413Z"
    },
    "papermill": {
     "duration": 0.072131,
     "end_time": "2020-08-17T10:33:40.684476",
     "exception": false,
     "start_time": "2020-08-17T10:33:40.612345",
     "status": "completed"
    },
    "tags": []
   },
   "outputs": [
    {
     "name": "stdout",
     "output_type": "stream",
     "text": [
      "[0.65730337 0.71348315 0.76404494 0.74719101 0.73446328]\n",
      "0.7232971497492542\n"
     ]
    }
   ],
   "source": [
    "#let's see naive bayes algorithim.\n",
    "gnb = GaussianNB()\n",
    "cv = cross_val_score(gnb,X_train_scaled,y_train,cv=5)\n",
    "print(cv)\n",
    "print(cv.mean())"
   ]
  },
  {
   "cell_type": "code",
   "execution_count": 27,
   "metadata": {
    "execution": {
     "iopub.execute_input": "2020-08-17T10:33:40.732335Z",
     "iopub.status.busy": "2020-08-17T10:33:40.731553Z",
     "iopub.status.idle": "2020-08-17T10:33:41.880801Z",
     "shell.execute_reply": "2020-08-17T10:33:41.879934Z"
    },
    "papermill": {
     "duration": 1.175665,
     "end_time": "2020-08-17T10:33:41.880964",
     "exception": false,
     "start_time": "2020-08-17T10:33:40.705299",
     "status": "completed"
    },
    "tags": []
   },
   "outputs": [
    {
     "name": "stdout",
     "output_type": "stream",
     "text": [
      "[0.81460674 0.82022472 0.80898876 0.82022472 0.84180791]\n",
      "0.8211705706849488\n"
     ]
    }
   ],
   "source": [
    "lr = LogisticRegression(max_iter = 2000)\n",
    "cv = cross_val_score(lr,X_train,y_train,cv=5)\n",
    "print(cv)\n",
    "print(cv.mean())"
   ]
  },
  {
   "cell_type": "code",
   "execution_count": 28,
   "metadata": {
    "execution": {
     "iopub.execute_input": "2020-08-17T10:33:41.930573Z",
     "iopub.status.busy": "2020-08-17T10:33:41.929499Z",
     "iopub.status.idle": "2020-08-17T10:33:42.099059Z",
     "shell.execute_reply": "2020-08-17T10:33:42.098188Z"
    },
    "papermill": {
     "duration": 0.197338,
     "end_time": "2020-08-17T10:33:42.099199",
     "exception": false,
     "start_time": "2020-08-17T10:33:41.901861",
     "status": "completed"
    },
    "tags": []
   },
   "outputs": [
    {
     "name": "stdout",
     "output_type": "stream",
     "text": [
      "[0.81460674 0.82022472 0.80898876 0.82022472 0.84180791]\n",
      "0.8211705706849488\n"
     ]
    }
   ],
   "source": [
    "#this is for scaled data\n",
    "lr = LogisticRegression(max_iter = 2000)\n",
    "cv = cross_val_score(lr,X_train_scaled,y_train,cv=5)\n",
    "print(cv)\n",
    "print(cv.mean())"
   ]
  },
  {
   "cell_type": "code",
   "execution_count": 29,
   "metadata": {
    "execution": {
     "iopub.execute_input": "2020-08-17T10:33:42.149736Z",
     "iopub.status.busy": "2020-08-17T10:33:42.148590Z",
     "iopub.status.idle": "2020-08-17T10:33:42.204945Z",
     "shell.execute_reply": "2020-08-17T10:33:42.205530Z"
    },
    "papermill": {
     "duration": 0.085314,
     "end_time": "2020-08-17T10:33:42.205739",
     "exception": false,
     "start_time": "2020-08-17T10:33:42.120425",
     "status": "completed"
    },
    "tags": []
   },
   "outputs": [
    {
     "name": "stdout",
     "output_type": "stream",
     "text": [
      "[0.76404494 0.75842697 0.83146067 0.75280899 0.84180791]\n",
      "0.7897098965276456\n"
     ]
    }
   ],
   "source": [
    "dt = DecisionTreeClassifier(criterion='gini',random_state = 1)\n",
    "cv = cross_val_score(dt,X_train,y_train,cv=5)\n",
    "print(cv)\n",
    "print(cv.mean())"
   ]
  },
  {
   "cell_type": "code",
   "execution_count": 30,
   "metadata": {
    "execution": {
     "iopub.execute_input": "2020-08-17T10:33:42.254976Z",
     "iopub.status.busy": "2020-08-17T10:33:42.254030Z",
     "iopub.status.idle": "2020-08-17T10:33:42.341973Z",
     "shell.execute_reply": "2020-08-17T10:33:42.341281Z"
    },
    "papermill": {
     "duration": 0.114992,
     "end_time": "2020-08-17T10:33:42.342108",
     "exception": false,
     "start_time": "2020-08-17T10:33:42.227116",
     "status": "completed"
    },
    "tags": []
   },
   "outputs": [
    {
     "ename": "NameError",
     "evalue": "name 'tree' is not defined",
     "output_type": "error",
     "traceback": [
      "\u001b[0;31m---------------------------------------------------------------------------\u001b[0m",
      "\u001b[0;31mNameError\u001b[0m                                 Traceback (most recent call last)",
      "\u001b[0;32m<ipython-input-30-997cee8592ff>\u001b[0m in \u001b[0;36m<module>\u001b[0;34m\u001b[0m\n\u001b[0;32m----> 1\u001b[0;31m \u001b[0mdt\u001b[0m \u001b[0;34m=\u001b[0m \u001b[0mtree\u001b[0m\u001b[0;34m.\u001b[0m\u001b[0mDecisionTreeClassifier\u001b[0m\u001b[0;34m(\u001b[0m\u001b[0mcriterion\u001b[0m\u001b[0;34m=\u001b[0m\u001b[0;34m'gini'\u001b[0m\u001b[0;34m,\u001b[0m\u001b[0mrandom_state\u001b[0m \u001b[0;34m=\u001b[0m \u001b[0;36m1\u001b[0m\u001b[0;34m)\u001b[0m\u001b[0;34m\u001b[0m\u001b[0;34m\u001b[0m\u001b[0m\n\u001b[0m\u001b[1;32m      2\u001b[0m \u001b[0mcv\u001b[0m \u001b[0;34m=\u001b[0m \u001b[0mcross_val_score\u001b[0m\u001b[0;34m(\u001b[0m\u001b[0mdt\u001b[0m\u001b[0;34m,\u001b[0m\u001b[0mX_train_scaled\u001b[0m\u001b[0;34m,\u001b[0m\u001b[0my_train\u001b[0m\u001b[0;34m,\u001b[0m\u001b[0mcv\u001b[0m\u001b[0;34m=\u001b[0m\u001b[0;36m5\u001b[0m\u001b[0;34m)\u001b[0m\u001b[0;34m\u001b[0m\u001b[0;34m\u001b[0m\u001b[0m\n\u001b[1;32m      3\u001b[0m \u001b[0mprint\u001b[0m\u001b[0;34m(\u001b[0m\u001b[0mcv\u001b[0m\u001b[0;34m)\u001b[0m\u001b[0;34m\u001b[0m\u001b[0;34m\u001b[0m\u001b[0m\n\u001b[1;32m      4\u001b[0m \u001b[0mprint\u001b[0m\u001b[0;34m(\u001b[0m\u001b[0mcv\u001b[0m\u001b[0;34m.\u001b[0m\u001b[0mmean\u001b[0m\u001b[0;34m(\u001b[0m\u001b[0;34m)\u001b[0m\u001b[0;34m)\u001b[0m\u001b[0;34m\u001b[0m\u001b[0;34m\u001b[0m\u001b[0m\n",
      "\u001b[0;31mNameError\u001b[0m: name 'tree' is not defined"
     ]
    }
   ],
   "source": [
    "dt = tree.DecisionTreeClassifier(criterion='gini',random_state = 1)\n",
    "cv = cross_val_score(dt,X_train_scaled,y_train,cv=5)\n",
    "print(cv)\n",
    "print(cv.mean())"
   ]
  },
  {
   "cell_type": "code",
   "execution_count": 31,
   "metadata": {
    "execution": {
     "iopub.execute_input": "2020-08-17T10:33:42.392192Z",
     "iopub.status.busy": "2020-08-17T10:33:42.391408Z",
     "iopub.status.idle": "2020-08-17T10:33:42.493594Z",
     "shell.execute_reply": "2020-08-17T10:33:42.492864Z"
    },
    "papermill": {
     "duration": 0.130519,
     "end_time": "2020-08-17T10:33:42.493740",
     "exception": false,
     "start_time": "2020-08-17T10:33:42.363221",
     "status": "completed"
    },
    "tags": []
   },
   "outputs": [
    {
     "name": "stdout",
     "output_type": "stream",
     "text": [
      "[0.68539326 0.7247191  0.73033708 0.74719101 0.74011299]\n",
      "0.725550688757697\n"
     ]
    }
   ],
   "source": [
    "knn = KNeighborsClassifier(n_neighbors=3,metric='minkowski',p=2)\n",
    "cv = cross_val_score(knn,X_train,y_train,cv=5)\n",
    "print(cv)\n",
    "print(cv.mean())"
   ]
  },
  {
   "cell_type": "code",
   "execution_count": 32,
   "metadata": {
    "execution": {
     "iopub.execute_input": "2020-08-17T10:33:42.543934Z",
     "iopub.status.busy": "2020-08-17T10:33:42.543160Z",
     "iopub.status.idle": "2020-08-17T10:33:42.665797Z",
     "shell.execute_reply": "2020-08-17T10:33:42.664936Z"
    },
    "papermill": {
     "duration": 0.150936,
     "end_time": "2020-08-17T10:33:42.665962",
     "exception": false,
     "start_time": "2020-08-17T10:33:42.515026",
     "status": "completed"
    },
    "tags": []
   },
   "outputs": [
    {
     "name": "stdout",
     "output_type": "stream",
     "text": [
      "[0.79775281 0.78651685 0.84269663 0.79213483 0.84180791]\n",
      "0.812181806640005\n"
     ]
    }
   ],
   "source": [
    "knn = KNeighborsClassifier(n_neighbors=5,metric='minkowski',p=2)\n",
    "cv = cross_val_score(knn,X_train_scaled,y_train,cv=5)\n",
    "print(cv)\n",
    "print(cv.mean())"
   ]
  },
  {
   "cell_type": "code",
   "execution_count": 33,
   "metadata": {
    "execution": {
     "iopub.execute_input": "2020-08-17T10:33:42.717378Z",
     "iopub.status.busy": "2020-08-17T10:33:42.716575Z",
     "iopub.status.idle": "2020-08-17T10:33:42.913186Z",
     "shell.execute_reply": "2020-08-17T10:33:42.912511Z"
    },
    "papermill": {
     "duration": 0.225268,
     "end_time": "2020-08-17T10:33:42.913359",
     "exception": false,
     "start_time": "2020-08-17T10:33:42.688091",
     "status": "completed"
    },
    "tags": []
   },
   "outputs": [
    {
     "name": "stdout",
     "output_type": "stream",
     "text": [
      "[0.76966292 0.80337079 0.84831461 0.76966292 0.82485876]\n",
      "0.8031739986034406\n"
     ]
    }
   ],
   "source": [
    "rf = RandomForestClassifier(n_estimators=10,criterion='entropy',random_state = 1)\n",
    "cv = cross_val_score(rf,X_train,y_train,cv=5)\n",
    "print(cv)\n",
    "print(cv.mean())"
   ]
  },
  {
   "cell_type": "code",
   "execution_count": 34,
   "metadata": {
    "execution": {
     "iopub.execute_input": "2020-08-17T10:33:42.964723Z",
     "iopub.status.busy": "2020-08-17T10:33:42.963924Z",
     "iopub.status.idle": "2020-08-17T10:33:43.161579Z",
     "shell.execute_reply": "2020-08-17T10:33:43.160902Z"
    },
    "papermill": {
     "duration": 0.226471,
     "end_time": "2020-08-17T10:33:43.161733",
     "exception": false,
     "start_time": "2020-08-17T10:33:42.935262",
     "status": "completed"
    },
    "tags": []
   },
   "outputs": [
    {
     "name": "stdout",
     "output_type": "stream",
     "text": [
      "[0.76966292 0.80337079 0.85393258 0.76966292 0.82485876]\n",
      "0.8042975941090585\n"
     ]
    }
   ],
   "source": [
    "rf = RandomForestClassifier(n_estimators=10,criterion='entropy',random_state = 1)\n",
    "cv = cross_val_score(rf,X_train_scaled,y_train,cv=5)\n",
    "print(cv)\n",
    "print(cv.mean())"
   ]
  },
  {
   "cell_type": "code",
   "execution_count": 35,
   "metadata": {
    "execution": {
     "iopub.execute_input": "2020-08-17T10:33:43.212401Z",
     "iopub.status.busy": "2020-08-17T10:33:43.211615Z",
     "iopub.status.idle": "2020-08-17T10:33:43.954339Z",
     "shell.execute_reply": "2020-08-17T10:33:43.953542Z"
    },
    "papermill": {
     "duration": 0.771089,
     "end_time": "2020-08-17T10:33:43.954470",
     "exception": false,
     "start_time": "2020-08-17T10:33:43.183381",
     "status": "completed"
    },
    "tags": []
   },
   "outputs": [
    {
     "name": "stdout",
     "output_type": "stream",
     "text": [
      "[0.84831461 0.82022472 0.8258427  0.80337079 0.86440678]\n",
      "0.8324319177299563\n"
     ]
    }
   ],
   "source": [
    "svc = SVC(kernel='rbf',probability = True)\n",
    "cv = cross_val_score(svc,X_train_scaled,y_train,cv=5)\n",
    "print(cv)\n",
    "print(cv.mean())"
   ]
  },
  {
   "cell_type": "code",
   "execution_count": 36,
   "metadata": {
    "execution": {
     "iopub.execute_input": "2020-08-17T10:33:44.005735Z",
     "iopub.status.busy": "2020-08-17T10:33:44.004760Z",
     "iopub.status.idle": "2020-08-17T10:33:45.346611Z",
     "shell.execute_reply": "2020-08-17T10:33:45.347543Z"
    },
    "papermill": {
     "duration": 1.371466,
     "end_time": "2020-08-17T10:33:45.347759",
     "exception": false,
     "start_time": "2020-08-17T10:33:43.976293",
     "status": "completed"
    },
    "tags": []
   },
   "outputs": [
    {
     "name": "stdout",
     "output_type": "stream",
     "text": [
      "[0.79775281 0.80898876 0.87078652 0.78089888 0.83615819]\n",
      "0.8189170316765061\n"
     ]
    }
   ],
   "source": [
    "from xgboost import XGBClassifier\n",
    "xgb = XGBClassifier(random_state =1)\n",
    "cv = cross_val_score(xgb,X_train_scaled,y_train,cv=5)\n",
    "print(cv)\n",
    "print(cv.mean())"
   ]
  },
  {
   "cell_type": "code",
   "execution_count": 37,
   "metadata": {
    "execution": {
     "iopub.execute_input": "2020-08-17T10:33:45.409453Z",
     "iopub.status.busy": "2020-08-17T10:33:45.408613Z",
     "iopub.status.idle": "2020-08-17T10:33:45.410892Z",
     "shell.execute_reply": "2020-08-17T10:33:45.411675Z"
    },
    "papermill": {
     "duration": 0.037495,
     "end_time": "2020-08-17T10:33:45.411861",
     "exception": false,
     "start_time": "2020-08-17T10:33:45.374366",
     "status": "completed"
    },
    "tags": []
   },
   "outputs": [],
   "source": [
    "from sklearn.ensemble import VotingClassifier\n",
    "voting_clf = VotingClassifier(estimators = [('lr',lr),('knn',knn),('rf',rf),('gnb',gnb),\n",
    "                                            ('svc',svc),('xgb',xgb)], voting = 'soft') "
   ]
  },
  {
   "cell_type": "code",
   "execution_count": 38,
   "metadata": {
    "execution": {
     "iopub.execute_input": "2020-08-17T10:33:45.476823Z",
     "iopub.status.busy": "2020-08-17T10:33:45.475986Z",
     "iopub.status.idle": "2020-08-17T10:33:47.307409Z",
     "shell.execute_reply": "2020-08-17T10:33:47.306235Z"
    },
    "papermill": {
     "duration": 1.86906,
     "end_time": "2020-08-17T10:33:47.307567",
     "exception": false,
     "start_time": "2020-08-17T10:33:45.438507",
     "status": "completed"
    },
    "tags": []
   },
   "outputs": [
    {
     "name": "stdout",
     "output_type": "stream",
     "text": [
      "[0.83146067 0.82022472 0.83707865 0.79775281 0.85310734]\n",
      "0.8279248397130706\n"
     ]
    }
   ],
   "source": [
    "cv = cross_val_score(voting_clf,X_train_scaled,y_train,cv=5)\n",
    "print(cv)\n",
    "print(cv.mean())"
   ]
  },
  {
   "cell_type": "code",
   "execution_count": 39,
   "metadata": {
    "execution": {
     "iopub.execute_input": "2020-08-17T10:33:47.370813Z",
     "iopub.status.busy": "2020-08-17T10:33:47.369778Z",
     "iopub.status.idle": "2020-08-17T10:33:47.972017Z",
     "shell.execute_reply": "2020-08-17T10:33:47.972955Z"
    },
    "papermill": {
     "duration": 0.637917,
     "end_time": "2020-08-17T10:33:47.973197",
     "exception": false,
     "start_time": "2020-08-17T10:33:47.335280",
     "status": "completed"
    },
    "tags": []
   },
   "outputs": [
    {
     "name": "stdout",
     "output_type": "stream",
     "text": [
      "successfully saved,thanks Ken Jee\n"
     ]
    }
   ],
   "source": [
    "voting_clf.fit(X_train_scaled,y_train)\n",
    "y_pred = voting_clf.predict(X_test_scaled).astype(int)\n",
    "basic_output = {'PassengerId': test.PassengerId, 'Survived': y_pred}\n",
    "basic_output=pd.DataFrame(data=basic_output)\n",
    "basic_output.to_csv('basic_output.csv', index=False)\n",
    "print('successfully saved,thanks Ken Jee')"
   ]
  },
  {
   "cell_type": "markdown",
   "execution_count": null,
   "metadata": {
    "papermill": {
     "duration": 0.027581,
     "end_time": "2020-08-17T10:33:48.028769",
     "exception": false,
     "start_time": "2020-08-17T10:33:48.001188",
     "status": "completed"
    },
    "tags": []
   },
   "source": [
    "# INSPIRED FROM KEN JEE"
   ]
  }
 ],
 "metadata": {
  "kernelspec": {
   "display_name": "Python 3",
   "language": "python",
   "name": "python3"
  },
  "language_info": {
   "codemirror_mode": {
    "name": "ipython",
    "version": 3
   },
   "file_extension": ".py",
   "mimetype": "text/x-python",
   "name": "python",
   "nbconvert_exporter": "python",
   "pygments_lexer": "ipython3",
   "version": "3.7.6"
  },
  "papermill": {
   "duration": 32.588866,
   "end_time": "2020-08-17T10:33:48.165275",
   "environment_variables": {},
   "exception": null,
   "input_path": "__notebook__.ipynb",
   "output_path": "__notebook__.ipynb",
   "parameters": {},
   "start_time": "2020-08-17T10:33:15.576409",
   "version": "2.1.0"
  }
 },
 "nbformat": 4,
 "nbformat_minor": 4
}
